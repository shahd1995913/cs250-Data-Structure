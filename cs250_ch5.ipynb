{
  "nbformat": 4,
  "nbformat_minor": 0,
  "metadata": {
    "colab": {
      "provenance": [],
      "authorship_tag": "ABX9TyMpWGOBNGq+j9WVfwf8k4pe",
      "include_colab_link": true
    },
    "kernelspec": {
      "name": "python3",
      "display_name": "Python 3"
    },
    "language_info": {
      "name": "python"
    }
  },
  "cells": [
    {
      "cell_type": "markdown",
      "metadata": {
        "id": "view-in-github",
        "colab_type": "text"
      },
      "source": [
        "<a href=\"https://colab.research.google.com/github/shahd1995913/cs250-Data-Structure/blob/main/cs250_ch5.ipynb\" target=\"_parent\"><img src=\"https://colab.research.google.com/assets/colab-badge.svg\" alt=\"Open In Colab\"/></a>"
      ]
    },
    {
      "cell_type": "code",
      "execution_count": null,
      "metadata": {
        "colab": {
          "base_uri": "https://localhost:8080/"
        },
        "id": "f-aIbELAQyoW",
        "outputId": "208828fb-b47d-4685-a798-923a2d950d6a"
      },
      "outputs": [
        {
          "output_type": "stream",
          "name": "stdout",
          "text": [
            "[5, 6, 8, 9, 70]\n"
          ]
        }
      ],
      "source": [
        "list_of_num=[5,6,8,9,70]\n",
        "print(list_of_num)"
      ]
    },
    {
      "cell_type": "code",
      "source": [
        "list_of_num[0]=100\n",
        "print(list_of_num)"
      ],
      "metadata": {
        "colab": {
          "base_uri": "https://localhost:8080/"
        },
        "id": "3ZzgVfheRGTC",
        "outputId": "ad0de72b-3a38-4c33-a8ad-5ff8fae4507c"
      },
      "execution_count": null,
      "outputs": [
        {
          "output_type": "stream",
          "name": "stdout",
          "text": [
            "[100, 6, 8, 9, 70]\n"
          ]
        }
      ]
    },
    {
      "cell_type": "code",
      "source": [
        "list_of_num2=[[4,50],5,[100,90,87],8,9,70]\n",
        "print(list_of_num2)"
      ],
      "metadata": {
        "colab": {
          "base_uri": "https://localhost:8080/"
        },
        "id": "ybyA5KvYRG7Q",
        "outputId": "347122bc-436f-4fb8-af74-6bf9a25bb324"
      },
      "execution_count": null,
      "outputs": [
        {
          "output_type": "stream",
          "name": "stdout",
          "text": [
            "[[4, 50], 5, [100, 90, 87], 8, 9, 70]\n"
          ]
        }
      ]
    },
    {
      "cell_type": "code",
      "source": [
        "list_of_num2[2][2]=0\n",
        "print(list_of_num2)"
      ],
      "metadata": {
        "colab": {
          "base_uri": "https://localhost:8080/"
        },
        "id": "NSXF8z4eRjVs",
        "outputId": "8a2a8a6f-4e08-467a-cef2-bf30d95b9857"
      },
      "execution_count": null,
      "outputs": [
        {
          "output_type": "stream",
          "name": "stdout",
          "text": [
            "[[4, 50], 5, [100, 90, 0], 8, 9, 70]\n"
          ]
        }
      ]
    },
    {
      "cell_type": "code",
      "source": [
        "# temp new list that shares the same element in  list_of_num2   - here note creating a new component for list temp \n",
        "temp =list_of_num2[1:3]\n",
        "print(temp)\n",
        "print(list_of_num2)\n",
        "temp[0]=1000 \n",
        "print(temp)\n",
        "print(list_of_num2)"
      ],
      "metadata": {
        "colab": {
          "base_uri": "https://localhost:8080/"
        },
        "id": "cr3Z4wgdSJe9",
        "outputId": "34b4aaec-8c7b-46bc-8ea2-9b625ae96cfa"
      },
      "execution_count": null,
      "outputs": [
        {
          "output_type": "stream",
          "name": "stdout",
          "text": [
            "[5, [100, 90, 0]]\n",
            "[[4, 50], 5, [100, 90, 0], 8, 9, 70]\n",
            "[1000, [100, 90, 0]]\n",
            "[[4, 50], 5, [100, 90, 0], 8, 9, 70]\n"
          ]
        }
      ]
    },
    {
      "cell_type": "markdown",
      "source": [
        "**shallow  copy**  : **Sharing  object**"
      ],
      "metadata": {
        "id": "5WJUqCdgfmQB"
      }
    },
    {
      "cell_type": "code",
      "source": [
        "# Sharing  object the shallow  copy  [only Copy]\n",
        "import copy \n",
        "list_one=[1,2,70,[20,50,90,100],88]\n",
        "list_copy=copy.copy(list_one)\n",
        "print(\"list_one\", list_one)\n",
        "print(\"list_copy\", list_copy)"
      ],
      "metadata": {
        "colab": {
          "base_uri": "https://localhost:8080/"
        },
        "id": "KDZNdAxlgCzK",
        "outputId": "1aa74121-7a95-4b2a-d583-7578849cc9d5"
      },
      "execution_count": null,
      "outputs": [
        {
          "output_type": "stream",
          "name": "stdout",
          "text": [
            "list_one [1, 2, 70, [20, 50, 90, 100], 88]\n",
            "list_copy [1, 2, 70, [20, 50, 90, 100], 88]\n"
          ]
        }
      ]
    },
    {
      "cell_type": "code",
      "source": [
        "list_copy[2]=0\n",
        "print(\"list_one\", list_one)\n",
        "print(\"list_copy\", list_copy)"
      ],
      "metadata": {
        "colab": {
          "base_uri": "https://localhost:8080/"
        },
        "id": "6AGihTs0geda",
        "outputId": "029bd61f-5447-4085-e5eb-fc9b59f38d64"
      },
      "execution_count": null,
      "outputs": [
        {
          "output_type": "stream",
          "name": "stdout",
          "text": [
            "list_one [1, 2, 70, [20, 50, 90, 100], 88]\n",
            "list_copy [1, 2, 0, [20, 50, 90, 100], 88]\n"
          ]
        }
      ]
    },
    {
      "cell_type": "code",
      "source": [
        "list_one[0]=1000\n",
        "print(\"list_one\", list_one)\n",
        "print(\"list_copy\", list_copy)"
      ],
      "metadata": {
        "colab": {
          "base_uri": "https://localhost:8080/"
        },
        "id": "UKLIerLvgs9a",
        "outputId": "14b8260e-5fc0-4f09-e0dc-ff1e834e6107"
      },
      "execution_count": null,
      "outputs": [
        {
          "output_type": "stream",
          "name": "stdout",
          "text": [
            "list_one [1000, 2, 70, [20, 50, 90, 100], 88]\n",
            "list_copy [1, 2, 0, [20, 50, 90, 100], 88]\n"
          ]
        }
      ]
    },
    {
      "cell_type": "markdown",
      "source": [
        "**Deep Copy  : No sharing for element**"
      ],
      "metadata": {
        "id": "9Nx03BMRiyHr"
      }
    },
    {
      "cell_type": "code",
      "source": [
        "# No Sharing for  object the Deep  copy  [New List Creating ]\n",
        "import copy \n",
        "list_one=[1,2,70,[20,50,90,100],88]\n",
        "list_copy=copy.deepcopy(list_one)\n",
        "print(\"list_one\", list_one)\n",
        "print(\"list_copy\", list_copy)"
      ],
      "metadata": {
        "colab": {
          "base_uri": "https://localhost:8080/"
        },
        "id": "2Cnd7judiyU_",
        "outputId": "1c51d4dc-a305-4c0b-fba6-37ed5632e61e"
      },
      "execution_count": null,
      "outputs": [
        {
          "output_type": "stream",
          "name": "stdout",
          "text": [
            "list_one [1, 2, 70, [20, 50, 90, 100], 88]\n",
            "list_copy [1, 2, 70, [20, 50, 90, 100], 88]\n"
          ]
        }
      ]
    },
    {
      "cell_type": "code",
      "source": [
        "list_copy[2]=0\n",
        "print(\"list_one\", list_one)\n",
        "print(\"list_copy\", list_copy)"
      ],
      "metadata": {
        "colab": {
          "base_uri": "https://localhost:8080/"
        },
        "id": "Dt8YAdQMiygb",
        "outputId": "84d60c4a-6a0b-42d9-bb09-6cce1d4ebf91"
      },
      "execution_count": null,
      "outputs": [
        {
          "output_type": "stream",
          "name": "stdout",
          "text": [
            "list_one [1, 2, 70, [20, 50, 90, 100], 88]\n",
            "list_copy [1, 2, 0, [20, 50, 90, 100], 88]\n"
          ]
        }
      ]
    },
    {
      "cell_type": "code",
      "source": [
        "list_one[0]=1000\n",
        "print(\"list_one\", list_one)\n",
        "print(\"list_copy\", list_copy)"
      ],
      "metadata": {
        "colab": {
          "base_uri": "https://localhost:8080/"
        },
        "id": "Jn_OCJ99iyj1",
        "outputId": "67516cb5-b698-4d0c-a3a1-5e8322de19e1"
      },
      "execution_count": null,
      "outputs": [
        {
          "output_type": "stream",
          "name": "stdout",
          "text": [
            "list_one [1000, 2, 70, [20, 50, 90, 100], 88]\n",
            "list_copy [1, 2, 0, [20, 50, 90, 100], 88]\n"
          ]
        }
      ]
    },
    {
      "cell_type": "markdown",
      "source": [
        "**Compact Arrays in Python Save a lot of memory**\n",
        " "
      ],
      "metadata": {
        "id": "FWR8id91lk6Y"
      }
    },
    {
      "cell_type": "code",
      "source": [
        "import sys\n",
        "l1=[1,2,70,88]   #  Referential  ==> List\n",
        "l2=[]   #  Referential ==> List\n",
        "print(sys.getsizeof(l1))"
      ],
      "metadata": {
        "colab": {
          "base_uri": "https://localhost:8080/"
        },
        "id": "laAkYC7YllKL",
        "outputId": "2e5339b7-e4af-4dc8-a84a-7c7c18ed8a20"
      },
      "execution_count": null,
      "outputs": [
        {
          "output_type": "stream",
          "name": "stdout",
          "text": [
            "120\n"
          ]
        }
      ]
    },
    {
      "cell_type": "code",
      "source": [
        "print(sys.getsizeof(l2))  # For empty Object"
      ],
      "metadata": {
        "colab": {
          "base_uri": "https://localhost:8080/"
        },
        "id": "TBVJIZxulxt4",
        "outputId": "769bc63c-4e7e-451c-848d-dbc7478dca55"
      },
      "execution_count": null,
      "outputs": [
        {
          "output_type": "stream",
          "name": "stdout",
          "text": [
            "56\n"
          ]
        }
      ]
    },
    {
      "cell_type": "markdown",
      "source": [
        "**Convert to Compact Arrays**  *** Save a lot of memory and the component sequential***"
      ],
      "metadata": {
        "id": "24K3-WHFnwfY"
      }
    },
    {
      "cell_type": "code",
      "source": [
        "import sys\n",
        "import array  # Convert to Compact Arrays   ==> Aim ==> Save a lot of memory and the component sequential\n",
        "li_Compact= array.array('i',[1,2,70,88])\n",
        "print(sys.getsizeof(li_Compact))"
      ],
      "metadata": {
        "id": "kRiXVrPBnwsw"
      },
      "execution_count": null,
      "outputs": []
    },
    {
      "cell_type": "code",
      "source": [
        "from pickle import NONE\n",
        "# Create a new array and copy the values ​​to it    == When the original array is full\n",
        "import sys   # provides getsizeof function\n",
        "data = [ ]\n",
        "n = int(input(\"Enter an integer  ?   \"))\n",
        "for k in range(n):\n",
        " # NOTE: must fix choice of n\n",
        " a = len(data)    # number of elements\n",
        " b = sys.getsizeof(data) # actual size in bytes\n",
        " print( \"Length: \"  , a ,  \" and the Size in bytes:\", b , \"bytes\")\n",
        " data.append(NONE)   # increase \n",
        " # 88-56 =32\n",
        " # 120-88 = 32\n",
        " # 4  location  --> 8 bytes     4*8= 32"
      ],
      "metadata": {
        "id": "32COitk4nQ3B",
        "outputId": "b11f6e6e-354b-4a80-b123-2f92b88030c2",
        "colab": {
          "base_uri": "https://localhost:8080/"
        }
      },
      "execution_count": 22,
      "outputs": [
        {
          "output_type": "stream",
          "name": "stdout",
          "text": [
            "Enter an integer  ?   30\n",
            "Length:  0  and the Size in bytes: 56 bytes\n",
            "Length:  1  and the Size in bytes: 88 bytes\n",
            "Length:  2  and the Size in bytes: 88 bytes\n",
            "Length:  3  and the Size in bytes: 88 bytes\n",
            "Length:  4  and the Size in bytes: 88 bytes\n",
            "Length:  5  and the Size in bytes: 120 bytes\n",
            "Length:  6  and the Size in bytes: 120 bytes\n",
            "Length:  7  and the Size in bytes: 120 bytes\n",
            "Length:  8  and the Size in bytes: 120 bytes\n",
            "Length:  9  and the Size in bytes: 184 bytes\n",
            "Length:  10  and the Size in bytes: 184 bytes\n",
            "Length:  11  and the Size in bytes: 184 bytes\n",
            "Length:  12  and the Size in bytes: 184 bytes\n",
            "Length:  13  and the Size in bytes: 184 bytes\n",
            "Length:  14  and the Size in bytes: 184 bytes\n",
            "Length:  15  and the Size in bytes: 184 bytes\n",
            "Length:  16  and the Size in bytes: 184 bytes\n",
            "Length:  17  and the Size in bytes: 248 bytes\n",
            "Length:  18  and the Size in bytes: 248 bytes\n",
            "Length:  19  and the Size in bytes: 248 bytes\n",
            "Length:  20  and the Size in bytes: 248 bytes\n",
            "Length:  21  and the Size in bytes: 248 bytes\n",
            "Length:  22  and the Size in bytes: 248 bytes\n",
            "Length:  23  and the Size in bytes: 248 bytes\n",
            "Length:  24  and the Size in bytes: 248 bytes\n",
            "Length:  25  and the Size in bytes: 312 bytes\n",
            "Length:  26  and the Size in bytes: 312 bytes\n",
            "Length:  27  and the Size in bytes: 312 bytes\n",
            "Length:  28  and the Size in bytes: 312 bytes\n",
            "Length:  29  and the Size in bytes: 312 bytes\n"
          ]
        }
      ]
    },
    {
      "cell_type": "markdown",
      "source": [
        " **Implementing a Dynamic Array**\n"
      ],
      "metadata": {
        "id": "cbWaMQMvvACA"
      }
    },
    {
      "cell_type": "code",
      "source": [
        "import ctypes\n",
        "\n",
        "class DynamicArray: #A dynamic array class akin to a simplified Python list\n",
        " \n",
        " def __init__ (self):  #Create an empty array.\n",
        "\n",
        "  self._n = 0  # count actual elements\n",
        "\n",
        "  self._capacity = 1  # default array capacity  , The number of reserved items \n",
        "\n",
        "  self._A = self._make_array(self._capacity) \n",
        "# A name of array   ,   self._make_array   method \n",
        "\n",
        " def _make_array(self, c):  # c capacity\n",
        " #Return new array with capacity c\n",
        "    return (c * ctypes.py_object)( )  #  ctypes item same datatype\n",
        "\n",
        " def __len__ (self):   # __len__  object \n",
        "   #Return number of elements stored in the array.”””\n",
        "    return  self._n\n",
        "\n",
        "\n",
        "\n",
        " def append(self, values):   #Add object to end of the array.”””\n",
        "   if self._n == self._capacity: # not enough size\n",
        "       self._resize(2*self._capacity)  # to double capacity\n",
        "   self._A[self._n] = values  #  A[0]=1   n +\n",
        "   self._n += 1\n",
        "\n",
        "\n",
        "\n",
        " def resize(self, c): #Resize internal array to capacity c.”””\n",
        "\n",
        "   B = self._make_array(c) # new (bigger) array\n",
        "\n",
        "   for k in range(self._n): # for each existing value copy values\n",
        "\n",
        "     B[k] = self._A[k]  # copy\n",
        "     self._A = B  # Rename B to A\n",
        "    # use the bigger array\n",
        "     self._capacity = c\n",
        "\n",
        " def getitem (self, k): #Return element at index k.”””\n",
        "\n",
        "  if not 0 <= k < self._n:\n",
        "\n",
        "    raise IndexError(\"invalid index\" )\n",
        "  return self. A[k]\n",
        " # retrieve from array\n",
        "\n",
        "dobj = DynamicArray()\n",
        "print(len(dobj))\n"
      ],
      "metadata": {
        "id": "BIe0J2cWq4L2",
        "outputId": "3515cfa8-8fd7-41a8-8283-2795edba945b",
        "colab": {
          "base_uri": "https://localhost:8080/"
        }
      },
      "execution_count": 27,
      "outputs": [
        {
          "output_type": "stream",
          "name": "stdout",
          "text": [
            "0\n"
          ]
        }
      ]
    },
    {
      "cell_type": "markdown",
      "source": [],
      "metadata": {
        "id": "4h0nsqiSqaTe"
      }
    },
    {
      "cell_type": "markdown",
      "source": [],
      "metadata": {
        "id": "PpnX4rjRnRHn"
      }
    }
  ]
}