{
  "nbformat": 4,
  "nbformat_minor": 0,
  "metadata": {
    "colab": {
      "provenance": [],
      "authorship_tag": "ABX9TyNXqz/2e9pACsCEuosHsZJu",
      "include_colab_link": true
    },
    "kernelspec": {
      "name": "python3",
      "display_name": "Python 3"
    },
    "language_info": {
      "name": "python"
    }
  },
  "cells": [
    {
      "cell_type": "markdown",
      "metadata": {
        "id": "view-in-github",
        "colab_type": "text"
      },
      "source": [
        "<a href=\"https://colab.research.google.com/github/shahd1995913/cs250-Data-Structure/blob/main/cs250_ch5.ipynb\" target=\"_parent\"><img src=\"https://colab.research.google.com/assets/colab-badge.svg\" alt=\"Open In Colab\"/></a>"
      ]
    },
    {
      "cell_type": "code",
      "execution_count": 16,
      "metadata": {
        "colab": {
          "base_uri": "https://localhost:8080/"
        },
        "id": "f-aIbELAQyoW",
        "outputId": "208828fb-b47d-4685-a798-923a2d950d6a"
      },
      "outputs": [
        {
          "output_type": "stream",
          "name": "stdout",
          "text": [
            "[5, 6, 8, 9, 70]\n"
          ]
        }
      ],
      "source": [
        "list_of_num=[5,6,8,9,70]\n",
        "print(list_of_num)"
      ]
    },
    {
      "cell_type": "code",
      "source": [
        "list_of_num[0]=100\n",
        "print(list_of_num)"
      ],
      "metadata": {
        "colab": {
          "base_uri": "https://localhost:8080/"
        },
        "id": "3ZzgVfheRGTC",
        "outputId": "ad0de72b-3a38-4c33-a8ad-5ff8fae4507c"
      },
      "execution_count": 17,
      "outputs": [
        {
          "output_type": "stream",
          "name": "stdout",
          "text": [
            "[100, 6, 8, 9, 70]\n"
          ]
        }
      ]
    },
    {
      "cell_type": "code",
      "source": [
        "list_of_num2=[[4,50],5,[100,90,87],8,9,70]\n",
        "print(list_of_num2)"
      ],
      "metadata": {
        "colab": {
          "base_uri": "https://localhost:8080/"
        },
        "id": "ybyA5KvYRG7Q",
        "outputId": "347122bc-436f-4fb8-af74-6bf9a25bb324"
      },
      "execution_count": 18,
      "outputs": [
        {
          "output_type": "stream",
          "name": "stdout",
          "text": [
            "[[4, 50], 5, [100, 90, 87], 8, 9, 70]\n"
          ]
        }
      ]
    },
    {
      "cell_type": "code",
      "source": [
        "list_of_num2[2][2]=0\n",
        "print(list_of_num2)"
      ],
      "metadata": {
        "colab": {
          "base_uri": "https://localhost:8080/"
        },
        "id": "NSXF8z4eRjVs",
        "outputId": "8a2a8a6f-4e08-467a-cef2-bf30d95b9857"
      },
      "execution_count": 19,
      "outputs": [
        {
          "output_type": "stream",
          "name": "stdout",
          "text": [
            "[[4, 50], 5, [100, 90, 0], 8, 9, 70]\n"
          ]
        }
      ]
    },
    {
      "cell_type": "code",
      "source": [
        "# temp new list that shares the same element in  list_of_num2   - here note creating a new component for list temp \n",
        "temp =list_of_num2[1:3]\n",
        "print(temp)\n",
        "print(list_of_num2)\n",
        "temp[0]=1000 \n",
        "print(temp)\n",
        "print(list_of_num2)"
      ],
      "metadata": {
        "colab": {
          "base_uri": "https://localhost:8080/"
        },
        "id": "cr3Z4wgdSJe9",
        "outputId": "34b4aaec-8c7b-46bc-8ea2-9b625ae96cfa"
      },
      "execution_count": 21,
      "outputs": [
        {
          "output_type": "stream",
          "name": "stdout",
          "text": [
            "[5, [100, 90, 0]]\n",
            "[[4, 50], 5, [100, 90, 0], 8, 9, 70]\n",
            "[1000, [100, 90, 0]]\n",
            "[[4, 50], 5, [100, 90, 0], 8, 9, 70]\n"
          ]
        }
      ]
    },
    {
      "cell_type": "markdown",
      "source": [
        "**shallow  copy**  : **Sharing  object**"
      ],
      "metadata": {
        "id": "5WJUqCdgfmQB"
      }
    },
    {
      "cell_type": "code",
      "source": [
        "# Sharing  object the shallow  copy  [only Copy]\n",
        "import copy \n",
        "list_one=[1,2,70,[20,50,90,100],88]\n",
        "list_copy=copy.copy(list_one)\n",
        "print(\"list_one\", list_one)\n",
        "print(\"list_copy\", list_copy)"
      ],
      "metadata": {
        "colab": {
          "base_uri": "https://localhost:8080/"
        },
        "id": "KDZNdAxlgCzK",
        "outputId": "1aa74121-7a95-4b2a-d583-7578849cc9d5"
      },
      "execution_count": 22,
      "outputs": [
        {
          "output_type": "stream",
          "name": "stdout",
          "text": [
            "list_one [1, 2, 70, [20, 50, 90, 100], 88]\n",
            "list_copy [1, 2, 70, [20, 50, 90, 100], 88]\n"
          ]
        }
      ]
    },
    {
      "cell_type": "code",
      "source": [
        "list_copy[2]=0\n",
        "print(\"list_one\", list_one)\n",
        "print(\"list_copy\", list_copy)"
      ],
      "metadata": {
        "colab": {
          "base_uri": "https://localhost:8080/"
        },
        "id": "6AGihTs0geda",
        "outputId": "029bd61f-5447-4085-e5eb-fc9b59f38d64"
      },
      "execution_count": 23,
      "outputs": [
        {
          "output_type": "stream",
          "name": "stdout",
          "text": [
            "list_one [1, 2, 70, [20, 50, 90, 100], 88]\n",
            "list_copy [1, 2, 0, [20, 50, 90, 100], 88]\n"
          ]
        }
      ]
    },
    {
      "cell_type": "code",
      "source": [
        "list_one[0]=1000\n",
        "print(\"list_one\", list_one)\n",
        "print(\"list_copy\", list_copy)"
      ],
      "metadata": {
        "colab": {
          "base_uri": "https://localhost:8080/"
        },
        "id": "UKLIerLvgs9a",
        "outputId": "14b8260e-5fc0-4f09-e0dc-ff1e834e6107"
      },
      "execution_count": 24,
      "outputs": [
        {
          "output_type": "stream",
          "name": "stdout",
          "text": [
            "list_one [1000, 2, 70, [20, 50, 90, 100], 88]\n",
            "list_copy [1, 2, 0, [20, 50, 90, 100], 88]\n"
          ]
        }
      ]
    },
    {
      "cell_type": "markdown",
      "source": [
        "**Deep Copy  : No sharing for element**"
      ],
      "metadata": {
        "id": "9Nx03BMRiyHr"
      }
    },
    {
      "cell_type": "code",
      "source": [
        "# No Sharing for  object the Deep  copy  [New List Creating ]\n",
        "import copy \n",
        "list_one=[1,2,70,[20,50,90,100],88]\n",
        "list_copy=copy.deepcopy(list_one)\n",
        "print(\"list_one\", list_one)\n",
        "print(\"list_copy\", list_copy)"
      ],
      "metadata": {
        "colab": {
          "base_uri": "https://localhost:8080/"
        },
        "id": "2Cnd7judiyU_",
        "outputId": "1c51d4dc-a305-4c0b-fba6-37ed5632e61e"
      },
      "execution_count": 25,
      "outputs": [
        {
          "output_type": "stream",
          "name": "stdout",
          "text": [
            "list_one [1, 2, 70, [20, 50, 90, 100], 88]\n",
            "list_copy [1, 2, 70, [20, 50, 90, 100], 88]\n"
          ]
        }
      ]
    },
    {
      "cell_type": "code",
      "source": [
        "list_copy[2]=0\n",
        "print(\"list_one\", list_one)\n",
        "print(\"list_copy\", list_copy)"
      ],
      "metadata": {
        "colab": {
          "base_uri": "https://localhost:8080/"
        },
        "id": "Dt8YAdQMiygb",
        "outputId": "84d60c4a-6a0b-42d9-bb09-6cce1d4ebf91"
      },
      "execution_count": 26,
      "outputs": [
        {
          "output_type": "stream",
          "name": "stdout",
          "text": [
            "list_one [1, 2, 70, [20, 50, 90, 100], 88]\n",
            "list_copy [1, 2, 0, [20, 50, 90, 100], 88]\n"
          ]
        }
      ]
    },
    {
      "cell_type": "code",
      "source": [
        "list_one[0]=1000\n",
        "print(\"list_one\", list_one)\n",
        "print(\"list_copy\", list_copy)"
      ],
      "metadata": {
        "colab": {
          "base_uri": "https://localhost:8080/"
        },
        "id": "Jn_OCJ99iyj1",
        "outputId": "67516cb5-b698-4d0c-a3a1-5e8322de19e1"
      },
      "execution_count": 27,
      "outputs": [
        {
          "output_type": "stream",
          "name": "stdout",
          "text": [
            "list_one [1000, 2, 70, [20, 50, 90, 100], 88]\n",
            "list_copy [1, 2, 0, [20, 50, 90, 100], 88]\n"
          ]
        }
      ]
    },
    {
      "cell_type": "markdown",
      "source": [
        "**Compact Arrays in Python Save a lot of memory**\n",
        " "
      ],
      "metadata": {
        "id": "FWR8id91lk6Y"
      }
    },
    {
      "cell_type": "code",
      "source": [
        "import sys\n",
        "l1=[1,2,70,88]   #  Referential  ==> List\n",
        "l2=[]   #  Referential ==> List\n",
        "print(sys.getsizeof(l1))"
      ],
      "metadata": {
        "colab": {
          "base_uri": "https://localhost:8080/"
        },
        "id": "laAkYC7YllKL",
        "outputId": "2e5339b7-e4af-4dc8-a84a-7c7c18ed8a20"
      },
      "execution_count": 28,
      "outputs": [
        {
          "output_type": "stream",
          "name": "stdout",
          "text": [
            "120\n"
          ]
        }
      ]
    },
    {
      "cell_type": "code",
      "source": [
        "print(sys.getsizeof(l2))  # For empty Object"
      ],
      "metadata": {
        "colab": {
          "base_uri": "https://localhost:8080/"
        },
        "id": "TBVJIZxulxt4",
        "outputId": "769bc63c-4e7e-451c-848d-dbc7478dca55"
      },
      "execution_count": 29,
      "outputs": [
        {
          "output_type": "stream",
          "name": "stdout",
          "text": [
            "56\n"
          ]
        }
      ]
    },
    {
      "cell_type": "markdown",
      "source": [
        "**Convert to Compact Arrays**  *** Save a lot of memory and the component sequential***"
      ],
      "metadata": {
        "id": "24K3-WHFnwfY"
      }
    },
    {
      "cell_type": "code",
      "source": [
        "import sys\n",
        "import array  # Convert to Compact Arrays   ==> Aim ==> Save a lot of memory and the component sequential\n",
        "li_Compact= array.array('i',[1,2,70,88])\n",
        "print(sys.getsizeof(li_Compact))"
      ],
      "metadata": {
        "colab": {
          "base_uri": "https://localhost:8080/"
        },
        "id": "kRiXVrPBnwsw",
        "outputId": "63179362-010e-48c5-d522-bf66251d52a0"
      },
      "execution_count": 30,
      "outputs": [
        {
          "output_type": "stream",
          "name": "stdout",
          "text": [
            "80\n"
          ]
        }
      ]
    }
  ]
}