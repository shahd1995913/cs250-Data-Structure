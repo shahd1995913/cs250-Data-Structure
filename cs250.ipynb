{
  "nbformat": 4,
  "nbformat_minor": 0,
  "metadata": {
    "colab": {
      "provenance": [],
      "authorship_tag": "ABX9TyMUiirq/+iIg8oEneTkYpQ1",
      "include_colab_link": true
    },
    "kernelspec": {
      "name": "python3",
      "display_name": "Python 3"
    },
    "language_info": {
      "name": "python"
    }
  },
  "cells": [
    {
      "cell_type": "markdown",
      "metadata": {
        "id": "view-in-github",
        "colab_type": "text"
      },
      "source": [
        "<a href=\"https://colab.research.google.com/github/shahd1995913/cs250-Data-Structure/blob/main/cs250.ipynb\" target=\"_parent\"><img src=\"https://colab.research.google.com/assets/colab-badge.svg\" alt=\"Open In Colab\"/></a>"
      ]
    },
    {
      "cell_type": "code",
      "execution_count": 5,
      "metadata": {
        "colab": {
          "base_uri": "https://localhost:8080/"
        },
        "id": "t8okysH4P4sO",
        "outputId": "2188997a-7593-41e1-f2f5-bfeac513a13f"
      },
      "outputs": [
        {
          "output_type": "stream",
          "name": "stdout",
          "text": [
            "Enter an integer :1028\n",
            "1\n",
            "2\n",
            "4\n",
            "8\n",
            "16\n",
            "32\n",
            "64\n",
            "128\n",
            "256\n",
            "512\n",
            "1024\n"
          ]
        }
      ],
      "source": [
        "# Logarithm -->  Multiply or divide within a loop\n",
        "\n",
        "i = 1\n",
        "n = int(input(\"Enter an integer :\"))   # 1024  \n",
        "while i<= n:    # Loop from a small number to a grater number  --> Multiply\n",
        "  print(i)\n",
        "  i *= 2   # Multiply  with a value    log n base 2 ---> i *= 2 \n",
        "           \n",
        "# log n base 2  when 1024 = 10\n",
        "# log n base 2 +1 = 11\n",
        "# Multiply  with a value    log n base 3 --> i *= 3  \n",
        "\n",
        "# log n  == Number of Run \n",
        "# F(n) =  log n  "
      ]
    },
    {
      "cell_type": "code",
      "source": [
        "# Logarithm -->  Multiply or divide within a loop\n",
        "\n",
        "n = int(input(\"Enter an integer :\"))   # 1024  \n",
        "i = n\n",
        "while i>= 1:    # Loop from a grater  number to a small grater number  --> division\n",
        "  print(i)\n",
        "  i //= 2   # division  with a value    log n base 2 ---> i *= 2 \n",
        "     "
      ],
      "metadata": {
        "colab": {
          "base_uri": "https://localhost:8080/"
        },
        "id": "b-Z1ypn_TDK2",
        "outputId": "5cea1877-b140-4481-e64e-6bd3f7ec9ef8"
      },
      "execution_count": 6,
      "outputs": [
        {
          "output_type": "stream",
          "name": "stdout",
          "text": [
            "Enter an integer :1028\n",
            "1028\n",
            "514\n",
            "257\n",
            "128\n",
            "64\n",
            "32\n",
            "16\n",
            "8\n",
            "4\n",
            "2\n",
            "1\n"
          ]
        }
      ]
    },
    {
      "cell_type": "code",
      "source": [
        "# Linear  ==> Print # of time for example 10 time\n",
        "n=10   # 1 will repeat\n",
        "i = 1     # 1 will repeat\n",
        "while i <= n :   # n time will repeat the loop\n",
        "  print(\"Hi CS250\"+ \"  \" , i)   # n time will repeat the loop\n",
        "  # Repeat n time *n  the print inside the loop \n",
        "  i+=1  # n time will repeat the loop\n",
        "\n",
        "#F(n)=2 + 3n  ==> F(n) = n Linear \n",
        " # Loop from a grater  number to a small grater number "
      ],
      "metadata": {
        "colab": {
          "base_uri": "https://localhost:8080/"
        },
        "id": "QScluuTNVktf",
        "outputId": "1f2e9c1e-49fd-4932-bbce-d548cc0c4cbe"
      },
      "execution_count": 10,
      "outputs": [
        {
          "output_type": "stream",
          "name": "stdout",
          "text": [
            "Hi CS250   1\n",
            "Hi CS250   2\n",
            "Hi CS250   3\n",
            "Hi CS250   4\n",
            "Hi CS250   5\n",
            "Hi CS250   6\n",
            "Hi CS250   7\n",
            "Hi CS250   8\n",
            "Hi CS250   9\n",
            "Hi CS250   10\n"
          ]
        }
      ]
    },
    {
      "cell_type": "code",
      "source": [
        "# Linear Search \n",
        "# Search for value in List    Time==>    F(n) = n \n",
        "# Search one value in list \n",
        "x = int(input(\"Enter the key : \"))   # 1 time\n",
        "list1=[1,2,4,5,8,9,200,7,54,7,9,77,88,54,66,44]  # 1 time\n",
        "for i in list1:    # n time\n",
        "  if x ==i:    # n time\n",
        "    print(\"The value is \",x, \"The value found in index number\", list1.index(x))\n",
        "  elif x not in list1 :  # 1 time\n",
        "    print(\"The value is \",x, \"Not in the List\")  # 1 time\n",
        "    break"
      ],
      "metadata": {
        "colab": {
          "base_uri": "https://localhost:8080/"
        },
        "id": "eUQnR178YEwk",
        "outputId": "908dcea3-60b1-4b40-aa1d-416bbb3ea96c"
      },
      "execution_count": 23,
      "outputs": [
        {
          "output_type": "stream",
          "name": "stdout",
          "text": [
            "Enter the key : 200\n",
            "The value is  200 The value found in index number 6\n"
          ]
        }
      ]
    },
    {
      "cell_type": "code",
      "source": [
        "# Binary Search (Ordered List ) Faster than Linear Search  (Not Ordered List)"
      ],
      "metadata": {
        "id": "OVrSW-kecLM_"
      },
      "execution_count": null,
      "outputs": []
    }
  ]
}